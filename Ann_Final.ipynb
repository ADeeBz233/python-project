{
 "cells": [
  {
   "cell_type": "code",
   "execution_count": 92,
   "metadata": {
    "colab": {
     "base_uri": "https://localhost:8080/"
    },
    "id": "RS5PRssv1IbZ",
    "outputId": "d81a9fd1-d4c7-4f01-abb8-da728dff96b0"
   },
   "outputs": [
    {
     "name": "stdout",
     "output_type": "stream",
     "text": [
      "(768, 5)\n"
     ]
    },
    {
     "data": {
      "text/plain": [
       "Index(['Pregnancies', 'Glucose', 'BMI', 'Age', 'Outcome'], dtype='object')"
      ]
     },
     "execution_count": 92,
     "metadata": {
      "tags": []
     },
     "output_type": "execute_result"
    }
   ],
   "source": [
    "import pandas as pd\n",
    "\n",
    "\n",
    "data= pd.read_csv('/content/drive/MyDrive/diabetes.csv')\n",
    "df = data.copy(deep = True)\n",
    "df\n",
    "df1 = df.select_dtypes(exclude=[object])\n",
    "correlation = df1.corr()\n",
    "round(correlation,3)\n",
    "cor_target = abs(correlation[\"Outcome\"])\n",
    "relevent_features = cor_target[cor_target >= 0.20 ]\n",
    "df = df[relevent_features.index]\n",
    "print(df.shape)\n",
    "df.columns"
   ]
  },
  {
   "cell_type": "code",
   "execution_count": 93,
   "metadata": {
    "id": "KMZlnksu1fRm"
   },
   "outputs": [],
   "source": [
    "x = df.iloc[:,:-1]\n",
    "y = df.iloc[:,-1]\n",
    "\n",
    "from sklearn.model_selection import train_test_split\n",
    "x_train, x_test,y_train,y_test = train_test_split(x,y,test_size = 0.2,random_state = 1 )"
   ]
  },
  {
   "cell_type": "code",
   "execution_count": null,
   "metadata": {
    "colab": {
     "base_uri": "https://localhost:8080/"
    },
    "id": "gfBOPUBL2WM8",
    "outputId": "cb6e3411-392b-4a1a-d636-58a06efa0d67"
   },
   "outputs": [
    {
     "name": "stdout",
     "output_type": "stream",
     "text": [
      "Epoch 1/100\n",
      "39/39 [==============================] - 1s 2ms/step - loss: 1.5373 - accuracy: 0.5188\n",
      "Epoch 2/100\n",
      "39/39 [==============================] - 0s 2ms/step - loss: 0.6766 - accuracy: 0.6101\n",
      "Epoch 3/100\n",
      "39/39 [==============================] - 0s 2ms/step - loss: 0.6740 - accuracy: 0.6486\n",
      "Epoch 4/100\n",
      "39/39 [==============================] - 0s 2ms/step - loss: 0.7346 - accuracy: 0.5839\n",
      "Epoch 5/100\n",
      "39/39 [==============================] - 0s 2ms/step - loss: 0.6742 - accuracy: 0.6099\n",
      "Epoch 6/100\n",
      "39/39 [==============================] - 0s 2ms/step - loss: 0.7459 - accuracy: 0.6154\n",
      "Epoch 7/100\n",
      "39/39 [==============================] - 0s 2ms/step - loss: 0.6725 - accuracy: 0.6604\n",
      "Epoch 8/100\n",
      "39/39 [==============================] - 0s 2ms/step - loss: 0.6486 - accuracy: 0.6605\n",
      "Epoch 9/100\n",
      "39/39 [==============================] - 0s 2ms/step - loss: 0.6461 - accuracy: 0.6556\n",
      "Epoch 10/100\n",
      "39/39 [==============================] - 0s 2ms/step - loss: 0.6162 - accuracy: 0.6914\n",
      "Epoch 11/100\n",
      "39/39 [==============================] - 0s 2ms/step - loss: 0.7113 - accuracy: 0.6288\n",
      "Epoch 12/100\n",
      "39/39 [==============================] - 0s 2ms/step - loss: 0.6999 - accuracy: 0.6299\n",
      "Epoch 13/100\n",
      "39/39 [==============================] - 0s 2ms/step - loss: 0.6491 - accuracy: 0.6602\n",
      "Epoch 14/100\n",
      "39/39 [==============================] - 0s 2ms/step - loss: 0.8045 - accuracy: 0.5573\n",
      "Epoch 15/100\n",
      "39/39 [==============================] - 0s 2ms/step - loss: 0.6562 - accuracy: 0.6810\n",
      "Epoch 16/100\n",
      "39/39 [==============================] - 0s 2ms/step - loss: 0.6833 - accuracy: 0.6300\n",
      "Epoch 17/100\n",
      "39/39 [==============================] - 0s 2ms/step - loss: 0.7831 - accuracy: 0.5923\n",
      "Epoch 18/100\n",
      "39/39 [==============================] - 0s 2ms/step - loss: 0.6026 - accuracy: 0.7006\n",
      "Epoch 19/100\n",
      "39/39 [==============================] - 0s 2ms/step - loss: 0.6873 - accuracy: 0.6403\n",
      "Epoch 20/100\n",
      "39/39 [==============================] - 0s 2ms/step - loss: 0.5732 - accuracy: 0.6959\n",
      "Epoch 21/100\n",
      "39/39 [==============================] - 0s 2ms/step - loss: 0.5950 - accuracy: 0.7116\n",
      "Epoch 22/100\n",
      "39/39 [==============================] - 0s 2ms/step - loss: 0.6866 - accuracy: 0.6375\n",
      "Epoch 23/100\n",
      "39/39 [==============================] - 0s 2ms/step - loss: 0.6158 - accuracy: 0.6813\n",
      "Epoch 24/100\n",
      "39/39 [==============================] - 0s 3ms/step - loss: 0.5871 - accuracy: 0.7033\n",
      "Epoch 25/100\n",
      "39/39 [==============================] - 0s 2ms/step - loss: 0.6014 - accuracy: 0.7050\n",
      "Epoch 26/100\n",
      "39/39 [==============================] - 0s 2ms/step - loss: 0.5951 - accuracy: 0.7018\n",
      "Epoch 27/100\n",
      "39/39 [==============================] - 0s 2ms/step - loss: 0.5923 - accuracy: 0.6985\n",
      "Epoch 28/100\n",
      "39/39 [==============================] - 0s 2ms/step - loss: 0.6059 - accuracy: 0.6501\n",
      "Epoch 29/100\n",
      "39/39 [==============================] - 0s 2ms/step - loss: 0.5995 - accuracy: 0.6766\n",
      "Epoch 30/100\n",
      "39/39 [==============================] - 0s 2ms/step - loss: 0.5722 - accuracy: 0.6992\n",
      "Epoch 31/100\n",
      "39/39 [==============================] - 0s 2ms/step - loss: 0.5719 - accuracy: 0.7035\n",
      "Epoch 32/100\n",
      "39/39 [==============================] - 0s 2ms/step - loss: 0.5694 - accuracy: 0.6987\n",
      "Epoch 33/100\n",
      "39/39 [==============================] - 0s 2ms/step - loss: 0.6458 - accuracy: 0.6708\n",
      "Epoch 34/100\n",
      "39/39 [==============================] - 0s 2ms/step - loss: 0.5531 - accuracy: 0.7575\n",
      "Epoch 35/100\n",
      "39/39 [==============================] - 0s 2ms/step - loss: 0.5874 - accuracy: 0.7100\n",
      "Epoch 36/100\n",
      "39/39 [==============================] - 0s 2ms/step - loss: 0.5753 - accuracy: 0.7053\n",
      "Epoch 37/100\n",
      "39/39 [==============================] - 0s 2ms/step - loss: 0.5878 - accuracy: 0.6777\n",
      "Epoch 38/100\n",
      "39/39 [==============================] - 0s 2ms/step - loss: 0.5499 - accuracy: 0.7198\n",
      "Epoch 39/100\n",
      "39/39 [==============================] - 0s 2ms/step - loss: 0.5378 - accuracy: 0.7299\n",
      "Epoch 40/100\n",
      "39/39 [==============================] - 0s 2ms/step - loss: 0.5615 - accuracy: 0.7200\n",
      "Epoch 41/100\n",
      "39/39 [==============================] - 0s 2ms/step - loss: 0.5462 - accuracy: 0.7214\n",
      "Epoch 42/100\n",
      "39/39 [==============================] - 0s 2ms/step - loss: 0.5501 - accuracy: 0.7163\n",
      "Epoch 43/100\n",
      "39/39 [==============================] - 0s 2ms/step - loss: 0.5219 - accuracy: 0.7598\n",
      "Epoch 44/100\n",
      "39/39 [==============================] - 0s 2ms/step - loss: 0.5364 - accuracy: 0.7518\n",
      "Epoch 45/100\n",
      "39/39 [==============================] - 0s 2ms/step - loss: 0.5235 - accuracy: 0.7628\n",
      "Epoch 46/100\n",
      "39/39 [==============================] - 0s 2ms/step - loss: 0.6606 - accuracy: 0.6567\n",
      "Epoch 47/100\n",
      "39/39 [==============================] - 0s 2ms/step - loss: 0.5207 - accuracy: 0.7498\n",
      "Epoch 48/100\n",
      "39/39 [==============================] - 0s 2ms/step - loss: 0.6145 - accuracy: 0.6920\n",
      "Epoch 49/100\n",
      "39/39 [==============================] - 0s 2ms/step - loss: 0.5911 - accuracy: 0.6854\n",
      "Epoch 50/100\n",
      "39/39 [==============================] - 0s 2ms/step - loss: 0.5523 - accuracy: 0.7446\n",
      "Epoch 51/100\n",
      "39/39 [==============================] - 0s 2ms/step - loss: 0.6575 - accuracy: 0.6516\n",
      "Epoch 52/100\n",
      "39/39 [==============================] - 0s 2ms/step - loss: 0.5744 - accuracy: 0.7100\n",
      "Epoch 53/100\n",
      "39/39 [==============================] - 0s 2ms/step - loss: 0.5784 - accuracy: 0.7170\n",
      "Epoch 54/100\n",
      "39/39 [==============================] - 0s 2ms/step - loss: 0.5995 - accuracy: 0.6897\n",
      "Epoch 55/100\n",
      "39/39 [==============================] - 0s 2ms/step - loss: 0.5519 - accuracy: 0.7487\n",
      "Epoch 56/100\n",
      "39/39 [==============================] - 0s 2ms/step - loss: 0.5732 - accuracy: 0.7194\n",
      "Epoch 57/100\n",
      "39/39 [==============================] - 0s 2ms/step - loss: 0.5693 - accuracy: 0.7000\n",
      "Epoch 58/100\n",
      "39/39 [==============================] - 0s 2ms/step - loss: 0.5208 - accuracy: 0.7211\n",
      "Epoch 59/100\n",
      "39/39 [==============================] - 0s 2ms/step - loss: 0.5434 - accuracy: 0.7162\n",
      "Epoch 60/100\n",
      "39/39 [==============================] - 0s 2ms/step - loss: 0.5712 - accuracy: 0.7105\n",
      "Epoch 61/100\n",
      "39/39 [==============================] - 0s 2ms/step - loss: 0.5633 - accuracy: 0.6983\n",
      "Epoch 62/100\n",
      "39/39 [==============================] - 0s 2ms/step - loss: 0.5323 - accuracy: 0.7311\n",
      "Epoch 63/100\n",
      "39/39 [==============================] - 0s 2ms/step - loss: 0.5043 - accuracy: 0.7394\n",
      "Epoch 64/100\n",
      "39/39 [==============================] - 0s 2ms/step - loss: 0.5300 - accuracy: 0.7209\n",
      "Epoch 65/100\n",
      "39/39 [==============================] - 0s 2ms/step - loss: 0.5429 - accuracy: 0.7106\n",
      "Epoch 66/100\n",
      "39/39 [==============================] - 0s 2ms/step - loss: 0.5355 - accuracy: 0.7368\n",
      "Epoch 67/100\n",
      "39/39 [==============================] - 0s 2ms/step - loss: 0.5015 - accuracy: 0.7676\n",
      "Epoch 68/100\n",
      "39/39 [==============================] - 0s 2ms/step - loss: 0.5174 - accuracy: 0.7517\n",
      "Epoch 69/100\n",
      "39/39 [==============================] - 0s 2ms/step - loss: 0.5014 - accuracy: 0.7757\n",
      "Epoch 70/100\n",
      "39/39 [==============================] - 0s 2ms/step - loss: 0.4794 - accuracy: 0.7925\n",
      "Epoch 71/100\n",
      "39/39 [==============================] - 0s 2ms/step - loss: 0.4962 - accuracy: 0.7773\n",
      "Epoch 72/100\n",
      "39/39 [==============================] - 0s 2ms/step - loss: 0.5376 - accuracy: 0.7256\n",
      "Epoch 73/100\n",
      "39/39 [==============================] - 0s 2ms/step - loss: 0.4842 - accuracy: 0.7842\n",
      "Epoch 74/100\n",
      "39/39 [==============================] - 0s 2ms/step - loss: 0.5025 - accuracy: 0.7303\n",
      "Epoch 75/100\n",
      "39/39 [==============================] - 0s 2ms/step - loss: 0.5974 - accuracy: 0.6742\n",
      "Epoch 76/100\n",
      "39/39 [==============================] - 0s 2ms/step - loss: 0.4840 - accuracy: 0.7639\n",
      "Epoch 77/100\n",
      "39/39 [==============================] - 0s 2ms/step - loss: 0.5301 - accuracy: 0.7466\n",
      "Epoch 78/100\n",
      "39/39 [==============================] - 0s 2ms/step - loss: 0.4928 - accuracy: 0.7565\n",
      "Epoch 79/100\n",
      "39/39 [==============================] - 0s 2ms/step - loss: 0.5468 - accuracy: 0.7430\n",
      "Epoch 80/100\n",
      "39/39 [==============================] - 0s 2ms/step - loss: 0.5201 - accuracy: 0.7351\n",
      "Epoch 81/100\n",
      "39/39 [==============================] - 0s 2ms/step - loss: 0.5067 - accuracy: 0.7463\n",
      "Epoch 82/100\n",
      "39/39 [==============================] - 0s 2ms/step - loss: 0.5079 - accuracy: 0.7589\n",
      "Epoch 83/100\n",
      "39/39 [==============================] - 0s 2ms/step - loss: 0.4824 - accuracy: 0.7745\n",
      "Epoch 84/100\n",
      "39/39 [==============================] - 0s 2ms/step - loss: 0.5171 - accuracy: 0.7539\n",
      "Epoch 85/100\n",
      "39/39 [==============================] - 0s 2ms/step - loss: 0.5257 - accuracy: 0.7536\n",
      "Epoch 86/100\n",
      "39/39 [==============================] - 0s 2ms/step - loss: 0.5200 - accuracy: 0.7407\n",
      "Epoch 87/100\n",
      "39/39 [==============================] - 0s 2ms/step - loss: 0.4705 - accuracy: 0.7805\n",
      "Epoch 88/100\n",
      "39/39 [==============================] - 0s 2ms/step - loss: 0.5019 - accuracy: 0.7429\n",
      "Epoch 89/100\n",
      "39/39 [==============================] - 0s 2ms/step - loss: 0.5166 - accuracy: 0.7447\n",
      "Epoch 90/100\n",
      "39/39 [==============================] - 0s 2ms/step - loss: 0.4732 - accuracy: 0.7783\n",
      "Epoch 91/100\n",
      "39/39 [==============================] - 0s 2ms/step - loss: 0.5339 - accuracy: 0.7337\n",
      "Epoch 92/100\n",
      "39/39 [==============================] - 0s 2ms/step - loss: 0.5117 - accuracy: 0.7500\n",
      "Epoch 93/100\n",
      "39/39 [==============================] - 0s 2ms/step - loss: 0.5271 - accuracy: 0.7307\n",
      "Epoch 94/100\n",
      "39/39 [==============================] - 0s 2ms/step - loss: 0.4771 - accuracy: 0.7812\n",
      "Epoch 95/100\n",
      "39/39 [==============================] - 0s 2ms/step - loss: 0.4936 - accuracy: 0.7569\n",
      "Epoch 96/100\n",
      "39/39 [==============================] - 0s 2ms/step - loss: 0.4654 - accuracy: 0.7846\n",
      "Epoch 97/100\n",
      "39/39 [==============================] - 0s 2ms/step - loss: 0.5075 - accuracy: 0.7429\n",
      "Epoch 98/100\n",
      "39/39 [==============================] - 0s 2ms/step - loss: 0.5164 - accuracy: 0.7655\n",
      "Epoch 99/100\n",
      "39/39 [==============================] - 0s 2ms/step - loss: 0.5154 - accuracy: 0.7556\n",
      "Epoch 100/100\n",
      "39/39 [==============================] - 0s 2ms/step - loss: 0.5015 - accuracy: 0.7608\n"
     ]
    },
    {
     "data": {
      "text/plain": [
       "<keras.callbacks.History at 0x7fca0a4d8f90>"
      ]
     },
     "execution_count": 74,
     "metadata": {
      "tags": []
     },
     "output_type": "execute_result"
    }
   ],
   "source": [
    "import keras as kr\n",
    "model = kr.models.Sequential()\n",
    "model.add(kr.layers.Dense(128,input_dim=4,activation=\"relu\"))\n",
    "model.add(kr.layers.Dense(64,activation=\"relu\"))\n",
    "model.add(kr.layers.Dense(32,activation=\"relu\"))\n",
    "model.add(kr.layers.Dense(1,activation=\"sigmoid\"))\n",
    "model.compile(loss='binary_crossentropy',optimizer='adam',metrics=['accuracy'])\n",
    "\n",
    "model.fit(x_train, y_train, batch_size=16, epochs=100)"
   ]
  },
  {
   "cell_type": "code",
   "execution_count": null,
   "metadata": {
    "id": "LSinpZ6JFjjm"
   },
   "outputs": [],
   "source": [
    "y_pred = model.predict(x_test)\n",
    "y_pred = y_pred.round()\n"
   ]
  },
  {
   "cell_type": "code",
   "execution_count": null,
   "metadata": {
    "colab": {
     "base_uri": "https://localhost:8080/"
    },
    "id": "-7MRRz7c9Au1",
    "outputId": "2de42d43-ca85-45d2-b1c4-a66c2d49e696"
   },
   "outputs": [
    {
     "name": "stdout",
     "output_type": "stream",
     "text": [
      "5/5 [==============================] - 0s 3ms/step - loss: 0.8667 - accuracy: 0.7922\n"
     ]
    },
    {
     "data": {
      "text/plain": [
       "[0.8667243719100952, 0.7922077775001526]"
      ]
     },
     "execution_count": 76,
     "metadata": {
      "tags": []
     },
     "output_type": "execute_result"
    }
   ],
   "source": [
    "model.evaluate(x_test,y_test)"
   ]
  },
  {
   "cell_type": "code",
   "execution_count": null,
   "metadata": {
    "colab": {
     "base_uri": "https://localhost:8080/"
    },
    "id": "WlDAsyPOJspz",
    "outputId": "e398ef93-03d7-4bf2-e825-23b7eaf1e317"
   },
   "outputs": [
    {
     "name": "stdout",
     "output_type": "stream",
     "text": [
      "INFO:tensorflow:Assets written to: annmodel/assets\n"
     ]
    }
   ],
   "source": [
    "model.save('annmodel')"
   ]
  },
  {
   "cell_type": "code",
   "execution_count": 94,
   "metadata": {
    "id": "HGHdqWJNNgDr"
   },
   "outputs": [],
   "source": [
    "model1 = kr.models.load_model('/content/annmodel')"
   ]
  },
  {
   "cell_type": "code",
   "execution_count": 95,
   "metadata": {
    "colab": {
     "base_uri": "https://localhost:8080/"
    },
    "id": "-hnBvSNAOCh_",
    "outputId": "f0176f30-dba4-4d76-d5c3-d8b5194dffe0"
   },
   "outputs": [
    {
     "name": "stdout",
     "output_type": "stream",
     "text": [
      "5/5 [==============================] - 0s 3ms/step - loss: 0.8667 - accuracy: 0.7922\n"
     ]
    },
    {
     "data": {
      "text/plain": [
       "[0.8667243719100952, 0.7922077775001526]"
      ]
     },
     "execution_count": 95,
     "metadata": {
      "tags": []
     },
     "output_type": "execute_result"
    }
   ],
   "source": [
    "model.evaluate(x_test,y_test)"
   ]
  },
  {
   "cell_type": "code",
   "execution_count": 96,
   "metadata": {
    "colab": {
     "base_uri": "https://localhost:8080/",
     "height": 417
    },
    "id": "0InSL1aJzo-_",
    "outputId": "2fb5191e-6272-477e-f22f-741475f9b0f9"
   },
   "outputs": [
    {
     "data": {
      "text/html": [
       "<div>\n",
       "<style scoped>\n",
       "    .dataframe tbody tr th:only-of-type {\n",
       "        vertical-align: middle;\n",
       "    }\n",
       "\n",
       "    .dataframe tbody tr th {\n",
       "        vertical-align: top;\n",
       "    }\n",
       "\n",
       "    .dataframe thead th {\n",
       "        text-align: right;\n",
       "    }\n",
       "</style>\n",
       "<table border=\"1\" class=\"dataframe\">\n",
       "  <thead>\n",
       "    <tr style=\"text-align: right;\">\n",
       "      <th></th>\n",
       "      <th>Pregnancies</th>\n",
       "      <th>Glucose</th>\n",
       "      <th>BMI</th>\n",
       "      <th>Age</th>\n",
       "    </tr>\n",
       "  </thead>\n",
       "  <tbody>\n",
       "    <tr>\n",
       "      <th>285</th>\n",
       "      <td>7</td>\n",
       "      <td>136</td>\n",
       "      <td>26.0</td>\n",
       "      <td>51</td>\n",
       "    </tr>\n",
       "    <tr>\n",
       "      <th>101</th>\n",
       "      <td>1</td>\n",
       "      <td>151</td>\n",
       "      <td>26.1</td>\n",
       "      <td>22</td>\n",
       "    </tr>\n",
       "    <tr>\n",
       "      <th>581</th>\n",
       "      <td>6</td>\n",
       "      <td>109</td>\n",
       "      <td>25.0</td>\n",
       "      <td>27</td>\n",
       "    </tr>\n",
       "    <tr>\n",
       "      <th>352</th>\n",
       "      <td>3</td>\n",
       "      <td>61</td>\n",
       "      <td>34.4</td>\n",
       "      <td>46</td>\n",
       "    </tr>\n",
       "    <tr>\n",
       "      <th>726</th>\n",
       "      <td>1</td>\n",
       "      <td>116</td>\n",
       "      <td>36.1</td>\n",
       "      <td>25</td>\n",
       "    </tr>\n",
       "    <tr>\n",
       "      <th>...</th>\n",
       "      <td>...</td>\n",
       "      <td>...</td>\n",
       "      <td>...</td>\n",
       "      <td>...</td>\n",
       "    </tr>\n",
       "    <tr>\n",
       "      <th>563</th>\n",
       "      <td>6</td>\n",
       "      <td>99</td>\n",
       "      <td>26.9</td>\n",
       "      <td>32</td>\n",
       "    </tr>\n",
       "    <tr>\n",
       "      <th>318</th>\n",
       "      <td>3</td>\n",
       "      <td>115</td>\n",
       "      <td>38.1</td>\n",
       "      <td>28</td>\n",
       "    </tr>\n",
       "    <tr>\n",
       "      <th>154</th>\n",
       "      <td>8</td>\n",
       "      <td>188</td>\n",
       "      <td>47.9</td>\n",
       "      <td>43</td>\n",
       "    </tr>\n",
       "    <tr>\n",
       "      <th>684</th>\n",
       "      <td>5</td>\n",
       "      <td>136</td>\n",
       "      <td>0.0</td>\n",
       "      <td>69</td>\n",
       "    </tr>\n",
       "    <tr>\n",
       "      <th>643</th>\n",
       "      <td>4</td>\n",
       "      <td>90</td>\n",
       "      <td>28.0</td>\n",
       "      <td>31</td>\n",
       "    </tr>\n",
       "  </tbody>\n",
       "</table>\n",
       "<p>154 rows × 4 columns</p>\n",
       "</div>"
      ],
      "text/plain": [
       "     Pregnancies  Glucose   BMI  Age\n",
       "285            7      136  26.0   51\n",
       "101            1      151  26.1   22\n",
       "581            6      109  25.0   27\n",
       "352            3       61  34.4   46\n",
       "726            1      116  36.1   25\n",
       "..           ...      ...   ...  ...\n",
       "563            6       99  26.9   32\n",
       "318            3      115  38.1   28\n",
       "154            8      188  47.9   43\n",
       "684            5      136   0.0   69\n",
       "643            4       90  28.0   31\n",
       "\n",
       "[154 rows x 4 columns]"
      ]
     },
     "execution_count": 96,
     "metadata": {
      "tags": []
     },
     "output_type": "execute_result"
    }
   ],
   "source": [
    "x_test"
   ]
  },
  {
   "cell_type": "code",
   "execution_count": 98,
   "metadata": {
    "colab": {
     "base_uri": "https://localhost:8080/"
    },
    "id": "yepcS6a0zk9_",
    "outputId": "5965db79-ff87-43d8-cb55-dc7bd9d3ea2f"
   },
   "outputs": [
    {
     "data": {
      "text/plain": [
       "array([[0.64852047]], dtype=float32)"
      ]
     },
     "execution_count": 98,
     "metadata": {
      "tags": []
     },
     "output_type": "execute_result"
    }
   ],
   "source": [
    "model.predict([[7,136,26,51]])"
   ]
  },
  {
   "cell_type": "code",
   "execution_count": 1,
   "metadata": {
    "id": "JXuKBN90OH6_"
   },
   "outputs": [
    {
     "name": "stdout",
     "output_type": "stream",
     "text": [
      " * Serving Flask app \"__main__\" (lazy loading)\n",
      " * Environment: production\n",
      "   WARNING: This is a development server. Do not use it in a production deployment.\n",
      "   Use a production WSGI server instead.\n",
      " * Debug mode: off\n"
     ]
    },
    {
     "name": "stderr",
     "output_type": "stream",
     "text": [
      " * Running on http://127.0.0.1:5000/ (Press CTRL+C to quit)\n",
      "127.0.0.1 - - [20/Jun/2021 01:41:57] \"\u001b[37mGET / HTTP/1.1\u001b[0m\" 200 -\n",
      "127.0.0.1 - - [20/Jun/2021 01:42:03] \"\u001b[37mPOST /predict HTTP/1.1\u001b[0m\" 200 -\n"
     ]
    }
   ],
   "source": [
    "import keras\n",
    "import numpy as np\n",
    "from flask import Flask,request,jsonify,render_template\n",
    "app = Flask(__name__)\n",
    "model = keras.models.load_model('annmodel', compile = False)\n",
    "@app.route('/')\n",
    "def home():\n",
    "  return render_template('api.html')\n",
    "@app.route('/predict',methods=['POST'])\n",
    "def predict():\n",
    "    int_features = [[float(x) for x in request.form.values()]]\n",
    "    final_features = [[np.array(int_features)]]\n",
    "    prediction = model.predict(int_features)\n",
    "\n",
    "    return render_template('api.html',prediction_text='chance for diabetes : {} '.format(prediction))\n",
    "\n",
    "if __name__ == '__main__':\n",
    "    # Threaded option to enable multiple instances for multiple user access support\n",
    "    app.run(threaded=True, port=5000)"
   ]
  },
  {
   "cell_type": "code",
   "execution_count": null,
   "metadata": {
    "id": "9eBv2usibsYF"
   },
   "outputs": [],
   "source": []
  }
 ],
 "metadata": {
  "colab": {
   "collapsed_sections": [],
   "name": "Ann.ipynb",
   "provenance": []
  },
  "kernelspec": {
   "display_name": "Python 3",
   "language": "python",
   "name": "python3"
  },
  "language_info": {
   "codemirror_mode": {
    "name": "ipython",
    "version": 3
   },
   "file_extension": ".py",
   "mimetype": "text/x-python",
   "name": "python",
   "nbconvert_exporter": "python",
   "pygments_lexer": "ipython3",
   "version": "3.7.3"
  }
 },
 "nbformat": 4,
 "nbformat_minor": 1
}
