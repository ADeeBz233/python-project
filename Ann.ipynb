{
 "cells": [
  {
   "cell_type": "code",
   "execution_count": 12,
   "metadata": {
    "colab": {
     "base_uri": "https://localhost:8080/"
    },
    "id": "RS5PRssv1IbZ",
    "outputId": "d179b4a7-bd64-44a4-aff6-fe2865be3441"
   },
   "outputs": [
    {
     "name": "stdout",
     "output_type": "stream",
     "text": [
      "(768, 5)\n"
     ]
    },
    {
     "data": {
      "text/plain": [
       "Index(['Pregnancies', 'Glucose', 'BMI', 'Age', 'Outcome'], dtype='object')"
      ]
     },
     "execution_count": 12,
     "metadata": {},
     "output_type": "execute_result"
    }
   ],
   "source": [
    "import pandas as pd\n",
    "\n",
    "\n",
    "data= pd.read_csv('diabetes.csv')\n",
    "df = data.copy(deep = True)\n",
    "df\n",
    "df1 = df.select_dtypes(exclude=[object])\n",
    "correlation = df1.corr()\n",
    "round(correlation,3)\n",
    "cor_target = abs(correlation[\"Outcome\"])\n",
    "relevent_features = cor_target[cor_target >= 0.20 ]\n",
    "df = df[relevent_features.index]\n",
    "print(df.shape)\n",
    "df.columns"
   ]
  },
  {
   "cell_type": "code",
   "execution_count": 13,
   "metadata": {
    "id": "KMZlnksu1fRm"
   },
   "outputs": [],
   "source": [
    "x = df.iloc[:,:-1]\n",
    "y = df.iloc[:,-1]\n",
    "\n",
    "from sklearn.model_selection import train_test_split\n",
    "x_train, x_test,y_train,y_test = train_test_split(x,y,test_size = 0.2,random_state = 1 )"
   ]
  },
  {
   "cell_type": "code",
   "execution_count": 14,
   "metadata": {
    "colab": {
     "base_uri": "https://localhost:8080/"
    },
    "id": "gfBOPUBL2WM8",
    "outputId": "cb6e3411-392b-4a1a-d636-58a06efa0d67"
   },
   "outputs": [
    {
     "name": "stdout",
     "output_type": "stream",
     "text": [
      "Epoch 1/100\n",
      "39/39 [==============================] - 0s 8ms/step - loss: 0.9795 - accuracy: 0.5798\n",
      "Epoch 2/100\n",
      "39/39 [==============================] - 0s 5ms/step - loss: 0.6990 - accuracy: 0.6336\n",
      "Epoch 3/100\n",
      "39/39 [==============================] - 0s 5ms/step - loss: 0.8106 - accuracy: 0.5749\n",
      "Epoch 4/100\n",
      "39/39 [==============================] - 0s 5ms/step - loss: 0.8953 - accuracy: 0.5391\n",
      "Epoch 5/100\n",
      "39/39 [==============================] - 0s 5ms/step - loss: 0.7053 - accuracy: 0.5961\n",
      "Epoch 6/100\n",
      "39/39 [==============================] - 0s 5ms/step - loss: 0.6636 - accuracy: 0.6270\n",
      "Epoch 7/100\n",
      "39/39 [==============================] - 0s 5ms/step - loss: 0.6622 - accuracy: 0.6368\n",
      "Epoch 8/100\n",
      "39/39 [==============================] - 0s 5ms/step - loss: 0.6359 - accuracy: 0.6629\n",
      "Epoch 9/100\n",
      "39/39 [==============================] - 0s 5ms/step - loss: 0.7018 - accuracy: 0.6173\n",
      "Epoch 10/100\n",
      "39/39 [==============================] - 0s 5ms/step - loss: 0.7619 - accuracy: 0.6303\n",
      "Epoch 11/100\n",
      "39/39 [==============================] - 0s 5ms/step - loss: 0.6746 - accuracy: 0.6303\n",
      "Epoch 12/100\n",
      "39/39 [==============================] - 0s 4ms/step - loss: 0.6300 - accuracy: 0.6531\n",
      "Epoch 13/100\n",
      "39/39 [==============================] - 0s 5ms/step - loss: 0.6132 - accuracy: 0.6889\n",
      "Epoch 14/100\n",
      "39/39 [==============================] - 0s 5ms/step - loss: 0.6246 - accuracy: 0.6466\n",
      "Epoch 15/100\n",
      "39/39 [==============================] - 0s 4ms/step - loss: 0.6953 - accuracy: 0.6156\n",
      "Epoch 16/100\n",
      "39/39 [==============================] - 0s 5ms/step - loss: 0.6209 - accuracy: 0.6661\n",
      "Epoch 17/100\n",
      "39/39 [==============================] - 0s 5ms/step - loss: 0.6191 - accuracy: 0.6629\n",
      "Epoch 18/100\n",
      "39/39 [==============================] - 0s 5ms/step - loss: 0.5980 - accuracy: 0.6971\n",
      "Epoch 19/100\n",
      "39/39 [==============================] - 0s 5ms/step - loss: 0.6062 - accuracy: 0.6775\n",
      "Epoch 20/100\n",
      "39/39 [==============================] - 0s 5ms/step - loss: 0.6674 - accuracy: 0.6319\n",
      "Epoch 21/100\n",
      "39/39 [==============================] - 0s 4ms/step - loss: 0.6338 - accuracy: 0.6498\n",
      "Epoch 22/100\n",
      "39/39 [==============================] - 0s 4ms/step - loss: 0.6260 - accuracy: 0.6726\n",
      "Epoch 23/100\n",
      "39/39 [==============================] - 0s 5ms/step - loss: 0.5921 - accuracy: 0.7020\n",
      "Epoch 24/100\n",
      "39/39 [==============================] - 0s 5ms/step - loss: 0.5909 - accuracy: 0.7003\n",
      "Epoch 25/100\n",
      "39/39 [==============================] - 0s 4ms/step - loss: 0.5832 - accuracy: 0.7150\n",
      "Epoch 26/100\n",
      "39/39 [==============================] - 0s 4ms/step - loss: 0.5908 - accuracy: 0.6906\n",
      "Epoch 27/100\n",
      "39/39 [==============================] - 0s 4ms/step - loss: 0.5802 - accuracy: 0.7003\n",
      "Epoch 28/100\n",
      "39/39 [==============================] - 0s 5ms/step - loss: 0.5880 - accuracy: 0.7036\n",
      "Epoch 29/100\n",
      "39/39 [==============================] - 0s 5ms/step - loss: 0.5838 - accuracy: 0.7085\n",
      "Epoch 30/100\n",
      "39/39 [==============================] - 0s 5ms/step - loss: 0.6238 - accuracy: 0.6596\n",
      "Epoch 31/100\n",
      "39/39 [==============================] - 0s 5ms/step - loss: 0.5788 - accuracy: 0.7036\n",
      "Epoch 32/100\n",
      "39/39 [==============================] - 0s 5ms/step - loss: 0.6105 - accuracy: 0.6889\n",
      "Epoch 33/100\n",
      "39/39 [==============================] - 0s 5ms/step - loss: 0.5688 - accuracy: 0.7182\n",
      "Epoch 34/100\n",
      "39/39 [==============================] - 0s 5ms/step - loss: 0.5940 - accuracy: 0.7068\n",
      "Epoch 35/100\n",
      "39/39 [==============================] - 0s 5ms/step - loss: 0.5818 - accuracy: 0.6889\n",
      "Epoch 36/100\n",
      "39/39 [==============================] - 0s 5ms/step - loss: 0.5949 - accuracy: 0.6710\n",
      "Epoch 37/100\n",
      "39/39 [==============================] - 0s 5ms/step - loss: 0.6300 - accuracy: 0.6564\n",
      "Epoch 38/100\n",
      "39/39 [==============================] - 0s 5ms/step - loss: 0.6091 - accuracy: 0.6743\n",
      "Epoch 39/100\n",
      "39/39 [==============================] - 0s 5ms/step - loss: 0.5859 - accuracy: 0.6840\n",
      "Epoch 40/100\n",
      "39/39 [==============================] - 0s 5ms/step - loss: 0.5898 - accuracy: 0.7117\n",
      "Epoch 41/100\n",
      "39/39 [==============================] - 0s 5ms/step - loss: 0.5861 - accuracy: 0.6906\n",
      "Epoch 42/100\n",
      "39/39 [==============================] - 0s 5ms/step - loss: 0.5911 - accuracy: 0.6954\n",
      "Epoch 43/100\n",
      "39/39 [==============================] - 0s 4ms/step - loss: 0.5731 - accuracy: 0.7101\n",
      "Epoch 44/100\n",
      "39/39 [==============================] - 0s 5ms/step - loss: 0.5798 - accuracy: 0.7068\n",
      "Epoch 45/100\n",
      "39/39 [==============================] - 0s 5ms/step - loss: 0.5657 - accuracy: 0.7231\n",
      "Epoch 46/100\n",
      "39/39 [==============================] - 0s 5ms/step - loss: 0.5685 - accuracy: 0.7085\n",
      "Epoch 47/100\n",
      "39/39 [==============================] - 0s 5ms/step - loss: 0.5617 - accuracy: 0.7248\n",
      "Epoch 48/100\n",
      "39/39 [==============================] - 0s 5ms/step - loss: 0.5533 - accuracy: 0.7296\n",
      "Epoch 49/100\n",
      "39/39 [==============================] - 0s 5ms/step - loss: 0.5524 - accuracy: 0.7215\n",
      "Epoch 50/100\n",
      "39/39 [==============================] - 0s 5ms/step - loss: 0.5800 - accuracy: 0.6938\n",
      "Epoch 51/100\n",
      "39/39 [==============================] - 0s 5ms/step - loss: 0.5647 - accuracy: 0.7248\n",
      "Epoch 52/100\n",
      "39/39 [==============================] - 0s 6ms/step - loss: 0.5462 - accuracy: 0.7378\n",
      "Epoch 53/100\n",
      "39/39 [==============================] - 0s 4ms/step - loss: 0.5541 - accuracy: 0.7264\n",
      "Epoch 54/100\n",
      "39/39 [==============================] - 0s 5ms/step - loss: 0.5394 - accuracy: 0.7313\n",
      "Epoch 55/100\n",
      "39/39 [==============================] - 0s 5ms/step - loss: 0.5984 - accuracy: 0.6775\n",
      "Epoch 56/100\n",
      "39/39 [==============================] - 0s 5ms/step - loss: 0.5624 - accuracy: 0.7199\n",
      "Epoch 57/100\n",
      "39/39 [==============================] - 0s 5ms/step - loss: 0.6114 - accuracy: 0.6564\n",
      "Epoch 58/100\n",
      "39/39 [==============================] - 0s 5ms/step - loss: 0.5624 - accuracy: 0.7199\n",
      "Epoch 59/100\n",
      "39/39 [==============================] - 0s 5ms/step - loss: 0.5465 - accuracy: 0.7394\n",
      "Epoch 60/100\n",
      "39/39 [==============================] - 0s 5ms/step - loss: 0.5457 - accuracy: 0.7313\n",
      "Epoch 61/100\n",
      "39/39 [==============================] - 0s 5ms/step - loss: 0.5351 - accuracy: 0.7329\n",
      "Epoch 62/100\n",
      "39/39 [==============================] - 0s 5ms/step - loss: 0.5327 - accuracy: 0.7459\n",
      "Epoch 63/100\n",
      "39/39 [==============================] - 0s 5ms/step - loss: 0.5486 - accuracy: 0.7215\n",
      "Epoch 64/100\n",
      "39/39 [==============================] - 0s 5ms/step - loss: 0.5370 - accuracy: 0.7378\n",
      "Epoch 65/100\n",
      "39/39 [==============================] - 0s 5ms/step - loss: 0.5411 - accuracy: 0.7329\n",
      "Epoch 66/100\n",
      "39/39 [==============================] - 0s 5ms/step - loss: 0.5292 - accuracy: 0.7541\n",
      "Epoch 67/100\n",
      "39/39 [==============================] - 0s 5ms/step - loss: 0.5533 - accuracy: 0.7313\n",
      "Epoch 68/100\n",
      "39/39 [==============================] - 0s 5ms/step - loss: 0.5368 - accuracy: 0.7345\n",
      "Epoch 69/100\n",
      "39/39 [==============================] - 0s 5ms/step - loss: 0.5262 - accuracy: 0.7590\n",
      "Epoch 70/100\n",
      "39/39 [==============================] - 0s 5ms/step - loss: 0.5632 - accuracy: 0.7199\n",
      "Epoch 71/100\n",
      "39/39 [==============================] - 0s 5ms/step - loss: 0.5343 - accuracy: 0.7427\n",
      "Epoch 72/100\n",
      "39/39 [==============================] - 0s 5ms/step - loss: 0.5299 - accuracy: 0.7378\n",
      "Epoch 73/100\n",
      "39/39 [==============================] - 0s 5ms/step - loss: 0.5251 - accuracy: 0.7459\n",
      "Epoch 74/100\n",
      "39/39 [==============================] - 0s 4ms/step - loss: 0.5385 - accuracy: 0.7345\n",
      "Epoch 75/100\n",
      "39/39 [==============================] - 0s 5ms/step - loss: 0.5547 - accuracy: 0.7280\n",
      "Epoch 76/100\n",
      "39/39 [==============================] - 0s 5ms/step - loss: 0.5430 - accuracy: 0.7296\n",
      "Epoch 77/100\n",
      "39/39 [==============================] - 0s 5ms/step - loss: 0.5395 - accuracy: 0.7443\n",
      "Epoch 78/100\n",
      "39/39 [==============================] - 0s 5ms/step - loss: 0.5389 - accuracy: 0.7362\n",
      "Epoch 79/100\n",
      "39/39 [==============================] - 0s 5ms/step - loss: 0.5446 - accuracy: 0.7264\n",
      "Epoch 80/100\n",
      "39/39 [==============================] - 0s 5ms/step - loss: 0.5219 - accuracy: 0.7606\n",
      "Epoch 81/100\n",
      "39/39 [==============================] - 0s 5ms/step - loss: 0.5201 - accuracy: 0.7443\n",
      "Epoch 82/100\n",
      "39/39 [==============================] - 0s 5ms/step - loss: 0.5222 - accuracy: 0.7378\n",
      "Epoch 83/100\n"
     ]
    },
    {
     "name": "stdout",
     "output_type": "stream",
     "text": [
      "39/39 [==============================] - 0s 5ms/step - loss: 0.5161 - accuracy: 0.7557\n",
      "Epoch 84/100\n",
      "39/39 [==============================] - 0s 4ms/step - loss: 0.5460 - accuracy: 0.7296\n",
      "Epoch 85/100\n",
      "39/39 [==============================] - 0s 5ms/step - loss: 0.5251 - accuracy: 0.7573\n",
      "Epoch 86/100\n",
      "39/39 [==============================] - 0s 4ms/step - loss: 0.5121 - accuracy: 0.7508\n",
      "Epoch 87/100\n",
      "39/39 [==============================] - 0s 5ms/step - loss: 0.5306 - accuracy: 0.7524\n",
      "Epoch 88/100\n",
      "39/39 [==============================] - 0s 4ms/step - loss: 0.5274 - accuracy: 0.7590\n",
      "Epoch 89/100\n",
      "39/39 [==============================] - 0s 4ms/step - loss: 0.5134 - accuracy: 0.7704\n",
      "Epoch 90/100\n",
      "39/39 [==============================] - 0s 5ms/step - loss: 0.5082 - accuracy: 0.7459\n",
      "Epoch 91/100\n",
      "39/39 [==============================] - 0s 5ms/step - loss: 0.5049 - accuracy: 0.7459\n",
      "Epoch 92/100\n",
      "39/39 [==============================] - 0s 5ms/step - loss: 0.5113 - accuracy: 0.7557\n",
      "Epoch 93/100\n",
      "39/39 [==============================] - 0s 5ms/step - loss: 0.5127 - accuracy: 0.7606\n",
      "Epoch 94/100\n",
      "39/39 [==============================] - 0s 5ms/step - loss: 0.5290 - accuracy: 0.7280\n",
      "Epoch 95/100\n",
      "39/39 [==============================] - 0s 4ms/step - loss: 0.5174 - accuracy: 0.7459\n",
      "Epoch 96/100\n",
      "39/39 [==============================] - 0s 4ms/step - loss: 0.5107 - accuracy: 0.7590\n",
      "Epoch 97/100\n",
      "39/39 [==============================] - 0s 4ms/step - loss: 0.4971 - accuracy: 0.7508\n",
      "Epoch 98/100\n",
      "39/39 [==============================] - 0s 5ms/step - loss: 0.5179 - accuracy: 0.7248\n",
      "Epoch 99/100\n",
      "39/39 [==============================] - 0s 4ms/step - loss: 0.5150 - accuracy: 0.7443\n",
      "Epoch 100/100\n",
      "39/39 [==============================] - 0s 4ms/step - loss: 0.5347 - accuracy: 0.7296\n"
     ]
    },
    {
     "data": {
      "text/plain": [
       "<tensorflow.python.keras.callbacks.History at 0x2780fc57668>"
      ]
     },
     "execution_count": 14,
     "metadata": {},
     "output_type": "execute_result"
    }
   ],
   "source": [
    "import keras as kr\n",
    "model = kr.models.Sequential()\n",
    "model.add(kr.layers.Dense(128,input_dim=4,activation=\"relu\"))\n",
    "model.add(kr.layers.Dense(64,activation=\"relu\"))\n",
    "model.add(kr.layers.Dense(32,activation=\"relu\"))\n",
    "model.add(kr.layers.Dense(1,activation=\"sigmoid\"))\n",
    "model.compile(loss='binary_crossentropy',optimizer='adam',metrics=['accuracy'])\n",
    "\n",
    "model.fit(x_train, y_train, batch_size=16, epochs=100)"
   ]
  },
  {
   "cell_type": "code",
   "execution_count": 15,
   "metadata": {
    "id": "LSinpZ6JFjjm"
   },
   "outputs": [],
   "source": [
    "y_pred = model.predict(x_test)\n",
    "y_pred = y_pred.round()\n"
   ]
  },
  {
   "cell_type": "code",
   "execution_count": 16,
   "metadata": {
    "colab": {
     "base_uri": "https://localhost:8080/"
    },
    "id": "-7MRRz7c9Au1",
    "outputId": "2de42d43-ca85-45d2-b1c4-a66c2d49e696"
   },
   "outputs": [
    {
     "name": "stdout",
     "output_type": "stream",
     "text": [
      "5/5 [==============================] - 0s 2ms/step - loss: 1.1510 - accuracy: 0.7403\n"
     ]
    },
    {
     "data": {
      "text/plain": [
       "[1.1510037183761597, 0.7402597665786743]"
      ]
     },
     "execution_count": 16,
     "metadata": {},
     "output_type": "execute_result"
    }
   ],
   "source": [
    "model.evaluate(x_test,y_test)"
   ]
  },
  {
   "cell_type": "code",
   "execution_count": 87,
   "metadata": {
    "colab": {
     "base_uri": "https://localhost:8080/"
    },
    "id": "WlDAsyPOJspz",
    "outputId": "e398ef93-03d7-4bf2-e825-23b7eaf1e317"
   },
   "outputs": [
    {
     "name": "stdout",
     "output_type": "stream",
     "text": [
      "INFO:tensorflow:Assets written to: annmodel/assets\n"
     ]
    }
   ],
   "source": [
    "model.save('annmodel')"
   ]
  },
  {
   "cell_type": "code",
   "execution_count": null,
   "metadata": {
    "id": "HGHdqWJNNgDr"
   },
   "outputs": [],
   "source": [
    "model1 = kr.models.load_model('/content/annmodel.pkl')"
   ]
  },
  {
   "cell_type": "code",
   "execution_count": null,
   "metadata": {
    "colab": {
     "base_uri": "https://localhost:8080/"
    },
    "id": "-hnBvSNAOCh_",
    "outputId": "8f712cd5-3af5-4959-d68d-e483ad0752fe"
   },
   "outputs": [
    {
     "name": "stdout",
     "output_type": "stream",
     "text": [
      "5/5 [==============================] - 0s 3ms/step - loss: 0.8667 - accuracy: 0.7922\n"
     ]
    },
    {
     "data": {
      "text/plain": [
       "[0.8667243719100952, 0.7922077775001526]"
      ]
     },
     "execution_count": 81,
     "metadata": {
      "tags": []
     },
     "output_type": "execute_result"
    }
   ],
   "source": [
    "model.evaluate(x_test,y_test)"
   ]
  },
  {
   "cell_type": "code",
   "execution_count": null,
   "metadata": {
    "id": "JXuKBN90OH6_",
    "scrolled": true
   },
   "outputs": [],
   "source": [
    "import keras\n",
    "\n",
    "import numpy as np\n",
    "from flask import Flask,request,jsonify,render_template\n",
    "app = Flask(__name__)\n",
    "model = keras.models.load_model('annmodel', compile = False)\n",
    "@app.route('/')\n",
    "def home():\n",
    "  return render_template('api.html')\n",
    "@app.route('/predict',methods=['POST'])\n",
    "def predict():\n",
    "    int_features = [[float(x) for x in request.form.values()]]\n",
    "    final_features = [[np.array(int_features)]]\n",
    "    prediction = model.predict(int_features)\n",
    "\n",
    "    return render_template('api.html',prediction_text='chance for diabetes : {} '.format(prediction))\n",
    "\n",
    "if __name__ == '__main__':\n",
    "    # Threaded option to enable multiple instances for multiple user access support\n",
    "    app.run(threaded=True, port=5000)"
   ]
  },
  {
   "cell_type": "code",
   "execution_count": null,
   "metadata": {},
   "outputs": [],
   "source": [
    "!python app.py"
   ]
  },
  {
   "cell_type": "code",
   "execution_count": null,
   "metadata": {},
   "outputs": [],
   "source": []
  }
 ],
 "metadata": {
  "colab": {
   "collapsed_sections": [],
   "name": "Ann.ipynb",
   "provenance": []
  },
  "kernelspec": {
   "display_name": "Python 3",
   "language": "python",
   "name": "python3"
  },
  "language_info": {
   "codemirror_mode": {
    "name": "ipython",
    "version": 3
   },
   "file_extension": ".py",
   "mimetype": "text/x-python",
   "name": "python",
   "nbconvert_exporter": "python",
   "pygments_lexer": "ipython3",
   "version": "3.7.3"
  }
 },
 "nbformat": 4,
 "nbformat_minor": 1
}
